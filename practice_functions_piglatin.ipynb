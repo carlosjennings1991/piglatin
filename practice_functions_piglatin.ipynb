{
 "cells": [
  {
   "cell_type": "code",
   "execution_count": 37,
   "metadata": {},
   "outputs": [],
   "source": [
    "import numpy as np\n",
    "import pandas as pd"
   ]
  },
  {
   "cell_type": "code",
   "execution_count": 38,
   "metadata": {},
   "outputs": [],
   "source": [
    "practice_sentence = ('The cat sat in the hat.')\n",
    "practice_sentence = practice_sentence[:-1]\n",
    "list_of_words = practice_sentence.split()"
   ]
  },
  {
   "cell_type": "code",
   "execution_count": 39,
   "metadata": {},
   "outputs": [
    {
     "data": {
      "text/plain": [
       "['The', 'cat', 'sat', 'in', 'the', 'hat']"
      ]
     },
     "execution_count": 39,
     "metadata": {},
     "output_type": "execute_result"
    }
   ],
   "source": [
    "list_of_words"
   ]
  },
  {
   "cell_type": "code",
   "execution_count": 40,
   "metadata": {},
   "outputs": [
    {
     "name": "stdout",
     "output_type": "stream",
     "text": [
      "hetay\n",
      "atcay\n",
      "atsay\n",
      "niay\n",
      "hetay\n",
      "athay\n"
     ]
    }
   ],
   "source": [
    "new_list = []\n",
    "for i in list_of_words:\n",
    "    i = i.lower()\n",
    "    i = list(i)\n",
    "    first_letter = i.pop(0)\n",
    "    #print(first_letter)\n",
    "    i.append(first_letter)\n",
    "    i = [''.join(i[:])]\n",
    "    i.append('ay')\n",
    "    i = [''.join(i[:])]\n",
    "    str1 = ''\n",
    "    i = str1.join(i)\n",
    "    print(i)\n",
    "    new_list.append(i)\n",
    "    "
   ]
  },
  {
   "cell_type": "code",
   "execution_count": 41,
   "metadata": {},
   "outputs": [],
   "source": [
    "listToStr = ' '.join([str(elem) for elem in new_list])"
   ]
  },
  {
   "cell_type": "code",
   "execution_count": 42,
   "metadata": {},
   "outputs": [
    {
     "data": {
      "text/plain": [
       "'Hetay atcay atsay niay hetay athay.'"
      ]
     },
     "execution_count": 42,
     "metadata": {},
     "output_type": "execute_result"
    }
   ],
   "source": [
    "listToStr = listToStr.capitalize()\n",
    "listToStr = listToStr + '.'\n",
    "listToStr"
   ]
  },
  {
   "cell_type": "code",
   "execution_count": 43,
   "metadata": {},
   "outputs": [],
   "source": [
    "def pig_latin_sentence(sample_string):\n",
    "    sample_string = sample_string[:-1]\n",
    "    list_of_words = sample_string.split()\n",
    "    \n",
    "    new_list = []\n",
    "    for i in list_of_words:\n",
    "        i = i.lower()\n",
    "        i = list(i)\n",
    "        first_letter = i.pop(0)\n",
    "        i.append(first_letter)\n",
    "        i = [''.join(i[:])]\n",
    "        i.append('ay')\n",
    "        i = [''.join(i[:])]\n",
    "        str1 = ''\n",
    "        i = str1.join(i)\n",
    "        new_list.append(i)\n",
    "        \n",
    "    listToStr = ' '.join([str(elem) for elem in new_list])\n",
    "    listToStr = listToStr.capitalize()\n",
    "    listToStr = listToStr + '.'\n",
    "    print(listToStr)"
   ]
  },
  {
   "cell_type": "code",
   "execution_count": 44,
   "metadata": {},
   "outputs": [
    {
     "name": "stdout",
     "output_type": "stream",
     "text": [
      "Ymay amenay siay uckloday.\n"
     ]
    }
   ],
   "source": [
    "test_string = 'My name is Ducklos'\n",
    "pig_latin_sentence(test_string)"
   ]
  },
  {
   "cell_type": "markdown",
   "metadata": {},
   "source": [
    "## Now do the same as above but for a paragraph"
   ]
  },
  {
   "cell_type": "code",
   "execution_count": 45,
   "metadata": {},
   "outputs": [
    {
     "data": {
      "text/plain": [
       "['The cat sat in the hat', 'And my name is Terry.']"
      ]
     },
     "execution_count": 45,
     "metadata": {},
     "output_type": "execute_result"
    }
   ],
   "source": [
    "practice_paragraph = ('The cat sat in the hat. And my name is Terry.')\n",
    "paragraph_sentences = practice_paragraph.split('. ')\n",
    "paragraph_sentences"
   ]
  },
  {
   "cell_type": "code",
   "execution_count": 46,
   "metadata": {},
   "outputs": [],
   "source": [
    "#paragraph_sentences[1].replace('.', '')"
   ]
  },
  {
   "cell_type": "code",
   "execution_count": 47,
   "metadata": {},
   "outputs": [],
   "source": [
    "paragraph_sentences[-1] = paragraph_sentences[-1].replace('.', '') "
   ]
  },
  {
   "cell_type": "code",
   "execution_count": 48,
   "metadata": {},
   "outputs": [
    {
     "data": {
      "text/plain": [
       "['The cat sat in the hat', 'And my name is Terry']"
      ]
     },
     "execution_count": 48,
     "metadata": {},
     "output_type": "execute_result"
    }
   ],
   "source": [
    "paragraph_sentences"
   ]
  },
  {
   "cell_type": "code",
   "execution_count": 49,
   "metadata": {},
   "outputs": [
    {
     "name": "stdout",
     "output_type": "stream",
     "text": [
      "hetay\n",
      "atcay\n",
      "atsay\n",
      "niay\n",
      "hetay\n",
      "athay\n",
      "ndaay\n",
      "ymay\n",
      "amenay\n",
      "siay\n",
      "errytay\n"
     ]
    }
   ],
   "source": [
    "# now lets loop through each sentence and replicate what we did earlier\n",
    "\n",
    "new_list = []\n",
    "\n",
    "for sentence in paragraph_sentences:\n",
    "    list_of_words = sentence.split()\n",
    "    \n",
    "    for i in list_of_words:\n",
    "        i = i.lower()\n",
    "        i = list(i)\n",
    "        first_letter = i.pop(0)\n",
    "        #print(first_letter)\n",
    "        i.append(first_letter)\n",
    "        i = [''.join(i[:])]\n",
    "        i.append('ay')\n",
    "        i = [''.join(i[:])]\n",
    "        str1 = ''\n",
    "        i = str1.join(i)\n",
    "        print(i)\n",
    "        new_list.append(i)\n",
    "        \n",
    "    new_list.append('.')"
   ]
  },
  {
   "cell_type": "code",
   "execution_count": 50,
   "metadata": {},
   "outputs": [
    {
     "data": {
      "text/plain": [
       "['hetay',\n",
       " 'atcay',\n",
       " 'atsay',\n",
       " 'niay',\n",
       " 'hetay',\n",
       " 'athay',\n",
       " '.',\n",
       " 'ndaay',\n",
       " 'ymay',\n",
       " 'amenay',\n",
       " 'siay',\n",
       " 'errytay',\n",
       " '.']"
      ]
     },
     "execution_count": 50,
     "metadata": {},
     "output_type": "execute_result"
    }
   ],
   "source": [
    "new_list"
   ]
  },
  {
   "cell_type": "markdown",
   "metadata": {},
   "source": [
    "## Now let's fix the capitalization and spacing"
   ]
  },
  {
   "cell_type": "code",
   "execution_count": 51,
   "metadata": {},
   "outputs": [
    {
     "data": {
      "text/plain": [
       "['hetay atcay atsay niay hetay athay . ndaay ymay amenay siay errytay .']"
      ]
     },
     "execution_count": 51,
     "metadata": {},
     "output_type": "execute_result"
    }
   ],
   "source": [
    "new_list = [' '.join(new_list[:])]\n",
    "new_list"
   ]
  },
  {
   "cell_type": "code",
   "execution_count": 52,
   "metadata": {},
   "outputs": [
    {
     "data": {
      "text/plain": [
       "'hetay atcay atsay niay hetay athay . ndaay ymay amenay siay errytay .'"
      ]
     },
     "execution_count": 52,
     "metadata": {},
     "output_type": "execute_result"
    }
   ],
   "source": [
    "new_list[0]"
   ]
  },
  {
   "cell_type": "code",
   "execution_count": 53,
   "metadata": {},
   "outputs": [],
   "source": [
    "new_list[0] = new_list[0].replace(' .', '.')"
   ]
  },
  {
   "cell_type": "code",
   "execution_count": 54,
   "metadata": {},
   "outputs": [
    {
     "data": {
      "text/plain": [
       "['hetay atcay atsay niay hetay athay. ndaay ymay amenay siay errytay.']"
      ]
     },
     "execution_count": 54,
     "metadata": {},
     "output_type": "execute_result"
    }
   ],
   "source": [
    "new_list"
   ]
  },
  {
   "cell_type": "code",
   "execution_count": 55,
   "metadata": {},
   "outputs": [
    {
     "data": {
      "text/plain": [
       "'hetay atcay atsay niay hetay athay. ndaay ymay amenay siay errytay.'"
      ]
     },
     "execution_count": 55,
     "metadata": {},
     "output_type": "execute_result"
    }
   ],
   "source": [
    "new_list[0]"
   ]
  },
  {
   "cell_type": "code",
   "execution_count": 56,
   "metadata": {},
   "outputs": [
    {
     "data": {
      "text/plain": [
       "['hetay atcay atsay niay hetay athay. ndaay ymay amenay siay errytay.']"
      ]
     },
     "execution_count": 56,
     "metadata": {},
     "output_type": "execute_result"
    }
   ],
   "source": [
    "# lets loop through the new_list and see if we can change characters based off preceding characters\n",
    "tracked_characters = []\n",
    "improved_characters = []\n",
    "\n",
    "for character in new_list[0]:\n",
    "    tracked_characters.append(character)\n",
    "    tracked_characters = [''.join(tracked_characters[:])]\n",
    "    if tracked_characters[0][-3:-1] == '. ':\n",
    "        upper_case_character = character.upper()\n",
    "        improved_characters.append(upper_case_character)\n",
    "        improved_characters = [''.join(improved_characters[:])]\n",
    "    else:\n",
    "        improved_characters.append(character)\n",
    "        improved_characters = [''.join(improved_characters[:])]\n",
    "        \n",
    "tracked_characters"
   ]
  },
  {
   "cell_type": "code",
   "execution_count": 57,
   "metadata": {},
   "outputs": [
    {
     "data": {
      "text/plain": [
       "['hetay atcay atsay niay hetay athay. Ndaay ymay amenay siay errytay.']"
      ]
     },
     "execution_count": 57,
     "metadata": {},
     "output_type": "execute_result"
    }
   ],
   "source": [
    "improved_characters"
   ]
  },
  {
   "cell_type": "code",
   "execution_count": 58,
   "metadata": {},
   "outputs": [],
   "source": [
    "improved_characters = improved_characters[0]\n"
   ]
  },
  {
   "cell_type": "code",
   "execution_count": 59,
   "metadata": {},
   "outputs": [
    {
     "data": {
      "text/plain": [
       "'hetay atcay atsay niay hetay athay. Ndaay ymay amenay siay errytay.'"
      ]
     },
     "execution_count": 59,
     "metadata": {},
     "output_type": "execute_result"
    }
   ],
   "source": [
    "improved_characters"
   ]
  },
  {
   "cell_type": "code",
   "execution_count": 60,
   "metadata": {},
   "outputs": [
    {
     "data": {
      "text/plain": [
       "['h',\n",
       " 'e',\n",
       " 't',\n",
       " 'a',\n",
       " 'y',\n",
       " ' ',\n",
       " 'a',\n",
       " 't',\n",
       " 'c',\n",
       " 'a',\n",
       " 'y',\n",
       " ' ',\n",
       " 'a',\n",
       " 't',\n",
       " 's',\n",
       " 'a',\n",
       " 'y',\n",
       " ' ',\n",
       " 'n',\n",
       " 'i',\n",
       " 'a',\n",
       " 'y',\n",
       " ' ',\n",
       " 'h',\n",
       " 'e',\n",
       " 't',\n",
       " 'a',\n",
       " 'y',\n",
       " ' ',\n",
       " 'a',\n",
       " 't',\n",
       " 'h',\n",
       " 'a',\n",
       " 'y',\n",
       " '.',\n",
       " ' ',\n",
       " 'N',\n",
       " 'd',\n",
       " 'a',\n",
       " 'a',\n",
       " 'y',\n",
       " ' ',\n",
       " 'y',\n",
       " 'm',\n",
       " 'a',\n",
       " 'y',\n",
       " ' ',\n",
       " 'a',\n",
       " 'm',\n",
       " 'e',\n",
       " 'n',\n",
       " 'a',\n",
       " 'y',\n",
       " ' ',\n",
       " 's',\n",
       " 'i',\n",
       " 'a',\n",
       " 'y',\n",
       " ' ',\n",
       " 'e',\n",
       " 'r',\n",
       " 'r',\n",
       " 'y',\n",
       " 't',\n",
       " 'a',\n",
       " 'y',\n",
       " '.']"
      ]
     },
     "execution_count": 60,
     "metadata": {},
     "output_type": "execute_result"
    }
   ],
   "source": [
    "improved_characters = list(improved_characters)\n",
    "improved_characters"
   ]
  },
  {
   "cell_type": "code",
   "execution_count": 61,
   "metadata": {},
   "outputs": [],
   "source": [
    "improved_characters[0] = improved_characters[0].upper()"
   ]
  },
  {
   "cell_type": "code",
   "execution_count": 62,
   "metadata": {},
   "outputs": [],
   "source": [
    "improved_characters = ''.join(improved_characters[:])"
   ]
  },
  {
   "cell_type": "code",
   "execution_count": 63,
   "metadata": {},
   "outputs": [
    {
     "data": {
      "text/plain": [
       "'Hetay atcay atsay niay hetay athay. Ndaay ymay amenay siay errytay.'"
      ]
     },
     "execution_count": 63,
     "metadata": {},
     "output_type": "execute_result"
    }
   ],
   "source": [
    "improved_characters"
   ]
  },
  {
   "cell_type": "markdown",
   "metadata": {},
   "source": [
    "## Now Let's turn it into one concise function"
   ]
  },
  {
   "cell_type": "code",
   "execution_count": 70,
   "metadata": {},
   "outputs": [],
   "source": [
    "def pig_latin_paragraph(sample_paragraph):\n",
    "    # split our paragraph into sentences\n",
    "    paragraph_sentences = sample_paragraph.split('. ')\n",
    "    \n",
    "    # remove the trailing punctuation\n",
    "    paragraph_sentences[-1] = paragraph_sentences[-1].replace('.', '')\n",
    "    \n",
    "    # Now let's loop through each word and turn it into pig-latin\n",
    "    new_list = []\n",
    "\n",
    "    for sentence in paragraph_sentences:\n",
    "        list_of_words = sentence.split()\n",
    "\n",
    "        for i in list_of_words:\n",
    "            i = i.lower()\n",
    "            i = list(i)\n",
    "            first_letter = i.pop(0)\n",
    "            #print(first_letter)\n",
    "            i.append(first_letter)\n",
    "            i = [''.join(i[:])]\n",
    "            i.append('ay')\n",
    "            i = [''.join(i[:])]\n",
    "            str1 = ''\n",
    "            i = str1.join(i)\n",
    "            new_list.append(i)\n",
    "\n",
    "        # here we add the period back\n",
    "        new_list.append('.')\n",
    "    \n",
    "    # here we merge all the list items together, separated by a blank space\n",
    "    new_list = [' '.join(new_list[:])]\n",
    "    \n",
    "    # here we correct the space issue around the periods\n",
    "    new_list[0] = new_list[0].replace(' .', '.')\n",
    "    \n",
    "    \n",
    "    # lets loop through the new_list and see if we can change characters based off preceding characters\n",
    "    tracked_characters = []\n",
    "    improved_characters = []\n",
    "\n",
    "    for character in new_list[0]:\n",
    "        tracked_characters.append(character)\n",
    "        tracked_characters = [''.join(tracked_characters[:])]\n",
    "        if tracked_characters[0][-3:-1] == '. ':\n",
    "            upper_case_character = character.upper()\n",
    "            improved_characters.append(upper_case_character)\n",
    "            improved_characters = [''.join(improved_characters[:])]\n",
    "        else:\n",
    "            improved_characters.append(character)\n",
    "            improved_characters = [''.join(improved_characters[:])]\n",
    "\n",
    "    # let's take our output out of a list and have it just be a string\n",
    "    improved_characters = improved_characters[0]\n",
    "    # we now put it back into a list, but it's now a list of every single character in our string. \n",
    "    improved_characters = list(improved_characters)\n",
    "    # the line capitalizes the first letter of our first sentence. \n",
    "    improved_characters[0] = improved_characters[0].upper()\n",
    "    # we now join all the characters together so the returned variable is legible. \n",
    "    improved_characters = ''.join(improved_characters[:])\n",
    "    \n",
    "    return improved_characters"
   ]
  },
  {
   "cell_type": "code",
   "execution_count": 73,
   "metadata": {},
   "outputs": [],
   "source": [
    "test_paragraph = 'The cat sat in the hat. And my name is Terry.'"
   ]
  },
  {
   "cell_type": "code",
   "execution_count": 74,
   "metadata": {},
   "outputs": [
    {
     "data": {
      "text/plain": [
       "'Hetay atcay atsay niay hetay athay. Ndaay ymay amenay siay errytay.'"
      ]
     },
     "execution_count": 74,
     "metadata": {},
     "output_type": "execute_result"
    }
   ],
   "source": [
    "pig_latin_paragraph(test_paragraph)"
   ]
  },
  {
   "cell_type": "code",
   "execution_count": null,
   "metadata": {},
   "outputs": [],
   "source": []
  }
 ],
 "metadata": {
  "kernelspec": {
   "display_name": "PythonData",
   "language": "python",
   "name": "pythondata"
  },
  "language_info": {
   "codemirror_mode": {
    "name": "ipython",
    "version": 3
   },
   "file_extension": ".py",
   "mimetype": "text/x-python",
   "name": "python",
   "nbconvert_exporter": "python",
   "pygments_lexer": "ipython3",
   "version": "3.7.9"
  }
 },
 "nbformat": 4,
 "nbformat_minor": 4
}
